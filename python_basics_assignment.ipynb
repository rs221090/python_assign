{
 "cells": [
  {
   "cell_type": "markdown",
   "id": "bebf62d4-6684-436c-96a2-b0631cf5f725",
   "metadata": {},
   "source": [
    "1-Explain the key features of Python that make it a popular choice for programming."
   ]
  },
  {
   "cell_type": "raw",
   "id": "e2d674d1-6be8-431b-a1aa-48a1391f082f",
   "metadata": {},
   "source": [
    "Solution -1\n",
    "Python is easy to read and write.It has many libraries for different task.It has large and active community of developers\n",
    "all of this make python a popular choice for programming"
   ]
  },
  {
   "cell_type": "markdown",
   "id": "9315d452-d37b-4585-a66a-cd3865a12c81",
   "metadata": {},
   "source": [
    "2-Describe the role of predefined keywords in Python and provide examples of how they are used in a program."
   ]
  },
  {
   "cell_type": "raw",
   "id": "9f9327e1-e2e6-48d3-8345-0e61918aa14a",
   "metadata": {},
   "source": [
    "SOLUTION-2\n",
    "In python,predifined keywords are special words that have a specific meaning and purpose within a language.\n",
    "These are the building blocks of python syntax and define the functionality of your program.Describe the role of predefined keywords in Python and provide examples of how they are used in a program.\n",
    "It improves readibility of program.There's a fixed list of keywords in python and you don't need to import them from any module.\n",
    "Examples of kewords are if,else,True,and,or,def,class,yield\n",
    "EXAMPLES OF SOME KEYWORDS IN PROGRAM\n"
   ]
  },
  {
   "cell_type": "code",
   "execution_count": 1,
   "id": "be3a7912-39d0-4f5f-b228-de967ab28f61",
   "metadata": {},
   "outputs": [
    {
     "name": "stdout",
     "output_type": "stream",
     "text": [
      "you passesd the test\n"
     ]
    }
   ],
   "source": [
    "#use of if keyword >> TO create conditional statement\n",
    "marks = 60\n",
    "marks = 60\n",
    "if marks>40:\n",
    "    print(\"you passesd the test\")\n"
   ]
  },
  {
   "cell_type": "code",
   "execution_count": 2,
   "id": "6c174bb4-2100-4cf9-9a16-4df78208a484",
   "metadata": {},
   "outputs": [
    {
     "name": "stdout",
     "output_type": "stream",
     "text": [
      "sum is 11\n"
     ]
    }
   ],
   "source": [
    "#use of def keyword >> it is used to define the function\n",
    "def add(a,b):\n",
    "    print(f\"sum is {a+b}\")\n",
    "add(5,6)"
   ]
  },
  {
   "cell_type": "code",
   "execution_count": 3,
   "id": "cae03101-ec8a-448d-9e23-4cd3054f5f01",
   "metadata": {},
   "outputs": [
    {
     "data": {
      "text/plain": [
       "True"
      ]
     },
     "execution_count": 3,
     "metadata": {},
     "output_type": "execute_result"
    }
   ],
   "source": [
    "#use of in keyword >> to check if value is present in a tuple,list etc\n",
    "5 in range(0,6)"
   ]
  },
  {
   "cell_type": "markdown",
   "id": "6bc1d377-e579-424e-9b50-1b9fb33617e3",
   "metadata": {},
   "source": [
    "3-Compare and contrast mutable and immutable objects in Python with example."
   ]
  },
  {
   "cell_type": "raw",
   "id": "a86d722c-7412-4626-8a42-f5c666bedf29",
   "metadata": {},
   "source": [
    "solution -3\n",
    "The difference between Mutable and Immutable objects is that mutable objects can be modified and changed after their creation\n",
    "but immutable objects cannot be modifiedsfter their creation.\n",
    "examples of mutable objects >> list,dictionary,sets etc\n",
    "examples of immutable objects >> string,tuple etc"
   ]
  },
  {
   "cell_type": "code",
   "execution_count": 4,
   "id": "9100593f-bc8b-4ea2-ae9a-28f7151ec785",
   "metadata": {},
   "outputs": [
    {
     "data": {
      "text/plain": [
       "['a', 'm', 'c', 'd', 'e', 'f']"
      ]
     },
     "execution_count": 4,
     "metadata": {},
     "output_type": "execute_result"
    }
   ],
   "source": [
    "#example of mutability\n",
    "lst = [\"a\",\"b\",\"c\",\"d\",\"e\",\"f\"]\n",
    "lst[1] = \"m\"\n",
    "lst\n",
    "#as list is mutable we can change its elements after creation\n",
    "#here we changed second element of list lst"
   ]
  },
  {
   "cell_type": "code",
   "execution_count": 5,
   "id": "7023d33e-1ee8-4656-8acc-a17f5ba64b18",
   "metadata": {},
   "outputs": [
    {
     "ename": "TypeError",
     "evalue": "'tuple' object does not support item assignment",
     "output_type": "error",
     "traceback": [
      "\u001b[0;31m---------------------------------------------------------------------------\u001b[0m",
      "\u001b[0;31mTypeError\u001b[0m                                 Traceback (most recent call last)",
      "Cell \u001b[0;32mIn[5], line 3\u001b[0m\n\u001b[1;32m      1\u001b[0m \u001b[38;5;66;03m#example of immutability\u001b[39;00m\n\u001b[1;32m      2\u001b[0m tup \u001b[38;5;241m=\u001b[39m (\u001b[38;5;124m\"\u001b[39m\u001b[38;5;124ma\u001b[39m\u001b[38;5;124m\"\u001b[39m,\u001b[38;5;124m\"\u001b[39m\u001b[38;5;124mb\u001b[39m\u001b[38;5;124m\"\u001b[39m,\u001b[38;5;124m\"\u001b[39m\u001b[38;5;124mc\u001b[39m\u001b[38;5;124m\"\u001b[39m,\u001b[38;5;124m\"\u001b[39m\u001b[38;5;124md\u001b[39m\u001b[38;5;124m\"\u001b[39m,\u001b[38;5;124m\"\u001b[39m\u001b[38;5;124me\u001b[39m\u001b[38;5;124m\"\u001b[39m,\u001b[38;5;124m\"\u001b[39m\u001b[38;5;124mf\u001b[39m\u001b[38;5;124m\"\u001b[39m)\n\u001b[0;32m----> 3\u001b[0m \u001b[43mtup\u001b[49m\u001b[43m[\u001b[49m\u001b[38;5;241;43m1\u001b[39;49m\u001b[43m]\u001b[49m \u001b[38;5;241m=\u001b[39m \u001b[38;5;124m\"\u001b[39m\u001b[38;5;124mm\u001b[39m\u001b[38;5;124m\"\u001b[39m\n\u001b[1;32m      4\u001b[0m tup\n\u001b[1;32m      5\u001b[0m \u001b[38;5;66;03m#as tuple is immutable we cannot change its element.\u001b[39;00m\n",
      "\u001b[0;31mTypeError\u001b[0m: 'tuple' object does not support item assignment"
     ]
    }
   ],
   "source": [
    "#example of immutability\n",
    "tup = (\"a\",\"b\",\"c\",\"d\",\"e\",\"f\")\n",
    "tup[1] = \"m\"\n",
    "tup\n",
    "#as tuple is immutable we cannot change its element."
   ]
  },
  {
   "cell_type": "markdown",
   "id": "30d53e11-c19a-46be-a5d3-c40c0c7d9a02",
   "metadata": {},
   "source": [
    "4-Discuss the different types of operators in Python and provide examples of how they are used\n",
    "Types of Python Operators"
   ]
  },
  {
   "cell_type": "raw",
   "id": "774ca06c-ed3c-40e7-85e4-10e842e71017",
   "metadata": {},
   "source": [
    "solution - 4\n",
    "1-Arithmetic Operators\n",
    "examples +,-,*,**,/,%,//"
   ]
  },
  {
   "cell_type": "code",
   "execution_count": 6,
   "id": "b280ec17-52d9-4326-9319-cf21ebb2d02e",
   "metadata": {},
   "outputs": [
    {
     "data": {
      "text/plain": [
       "30"
      ]
     },
     "execution_count": 6,
     "metadata": {},
     "output_type": "execute_result"
    }
   ],
   "source": [
    "10+20 #addition"
   ]
  },
  {
   "cell_type": "code",
   "execution_count": 7,
   "id": "39a56061-02b0-421e-973f-7d708b7e2990",
   "metadata": {},
   "outputs": [
    {
     "data": {
      "text/plain": [
       "0"
      ]
     },
     "execution_count": 7,
     "metadata": {},
     "output_type": "execute_result"
    }
   ],
   "source": [
    "20-20#subtraction"
   ]
  },
  {
   "cell_type": "code",
   "execution_count": 8,
   "id": "3f68490c-096d-483a-92df-e641d0056aad",
   "metadata": {},
   "outputs": [
    {
     "data": {
      "text/plain": [
       "16"
      ]
     },
     "execution_count": 8,
     "metadata": {},
     "output_type": "execute_result"
    }
   ],
   "source": [
    "2*8#multiplication"
   ]
  },
  {
   "cell_type": "raw",
   "id": "605d4ddf-2aab-42c9-8056-6677c519afd3",
   "metadata": {},
   "source": [
    "2-Comparison Operators\n",
    "examples ==,!=,<,>,>=,<="
   ]
  },
  {
   "cell_type": "code",
   "execution_count": 9,
   "id": "81f131bc-e8c5-4e92-975f-27dd16d0afd5",
   "metadata": {},
   "outputs": [
    {
     "data": {
      "text/plain": [
       "True"
      ]
     },
     "execution_count": 9,
     "metadata": {},
     "output_type": "execute_result"
    }
   ],
   "source": [
    "3==3 #equal"
   ]
  },
  {
   "cell_type": "code",
   "execution_count": 10,
   "id": "da474a03-abe4-4e90-8ce3-e6899915c2d9",
   "metadata": {},
   "outputs": [
    {
     "data": {
      "text/plain": [
       "True"
      ]
     },
     "execution_count": 10,
     "metadata": {},
     "output_type": "execute_result"
    }
   ],
   "source": [
    "3!= 4 #not equal"
   ]
  },
  {
   "cell_type": "code",
   "execution_count": 11,
   "id": "e747fc34-65e8-479d-a840-32db7e61a163",
   "metadata": {},
   "outputs": [
    {
     "data": {
      "text/plain": [
       "False"
      ]
     },
     "execution_count": 11,
     "metadata": {},
     "output_type": "execute_result"
    }
   ],
   "source": [
    "5>6 #not equal"
   ]
  },
  {
   "cell_type": "raw",
   "id": "b0404665-76c8-41cd-98de-848f379ba27b",
   "metadata": {},
   "source": [
    "3-Assignment Operators\n",
    "examples =,+=,-=,*=,/= etc\n"
   ]
  },
  {
   "cell_type": "code",
   "execution_count": 12,
   "id": "d53efc46-bb83-42c6-84dc-02f15634aa17",
   "metadata": {},
   "outputs": [
    {
     "data": {
      "text/plain": [
       "3"
      ]
     },
     "execution_count": 12,
     "metadata": {},
     "output_type": "execute_result"
    }
   ],
   "source": [
    "a=3 #assignment\n",
    "a"
   ]
  },
  {
   "cell_type": "code",
   "execution_count": 13,
   "id": "d177a259-a245-435e-945c-525090f7cbc5",
   "metadata": {},
   "outputs": [
    {
     "data": {
      "text/plain": [
       "6"
      ]
     },
     "execution_count": 13,
     "metadata": {},
     "output_type": "execute_result"
    }
   ],
   "source": [
    "a+=3 #addition assignment,same as a = a+3 \n",
    "a\n"
   ]
  },
  {
   "cell_type": "code",
   "execution_count": 14,
   "id": "a48a22bb-e708-466f-87ce-e25158b3857a",
   "metadata": {},
   "outputs": [
    {
     "data": {
      "text/plain": [
       "24"
      ]
     },
     "execution_count": 14,
     "metadata": {},
     "output_type": "execute_result"
    }
   ],
   "source": [
    "a*=4# multiplication assignment,same as a=a*4 \n",
    "a"
   ]
  },
  {
   "cell_type": "raw",
   "id": "916a9e3b-da4d-4447-8f70-6c0773f64ba5",
   "metadata": {},
   "source": [
    "4-logical operator\n",
    "examples>> and,or,not"
   ]
  },
  {
   "cell_type": "code",
   "execution_count": 15,
   "id": "d48909b2-146a-41f7-a2b6-f7e900e8030f",
   "metadata": {},
   "outputs": [
    {
     "data": {
      "text/plain": [
       "False"
      ]
     },
     "execution_count": 15,
     "metadata": {},
     "output_type": "execute_result"
    }
   ],
   "source": [
    "True and False"
   ]
  },
  {
   "cell_type": "code",
   "execution_count": 16,
   "id": "0aa597b2-a72e-45e8-9a5a-4ebab61c791b",
   "metadata": {},
   "outputs": [
    {
     "data": {
      "text/plain": [
       "False"
      ]
     },
     "execution_count": 16,
     "metadata": {},
     "output_type": "execute_result"
    }
   ],
   "source": [
    "not True"
   ]
  },
  {
   "cell_type": "raw",
   "id": "7ff4ccd9-e8b6-4539-919d-7bac1ada17a0",
   "metadata": {},
   "source": [
    "5-Bitwise Operators\n",
    "examples &,|,^,>>,<<"
   ]
  },
  {
   "cell_type": "code",
   "execution_count": 17,
   "id": "3e791551-e763-4cae-a45c-14267054d719",
   "metadata": {},
   "outputs": [
    {
     "data": {
      "text/plain": [
       "0"
      ]
     },
     "execution_count": 17,
     "metadata": {},
     "output_type": "execute_result"
    }
   ],
   "source": [
    "1&2 #binar AND"
   ]
  },
  {
   "cell_type": "code",
   "execution_count": 18,
   "id": "1b581d0c-a761-4630-925f-f6539fc7b9ee",
   "metadata": {},
   "outputs": [
    {
     "data": {
      "text/plain": [
       "8"
      ]
     },
     "execution_count": 18,
     "metadata": {},
     "output_type": "execute_result"
    }
   ],
   "source": [
    "1<<3 #binar left shift"
   ]
  },
  {
   "cell_type": "raw",
   "id": "4b184f48-27f6-4711-a653-48f426f268bb",
   "metadata": {},
   "source": [
    "6 Membership Operators\n",
    "examples in,not in"
   ]
  },
  {
   "cell_type": "code",
   "execution_count": 19,
   "id": "113085bf-cf46-4480-98bc-4ad1205ffdd2",
   "metadata": {},
   "outputs": [
    {
     "data": {
      "text/plain": [
       "True"
      ]
     },
     "execution_count": 19,
     "metadata": {},
     "output_type": "execute_result"
    }
   ],
   "source": [
    "lst = [1,2,3,4,5]\n",
    "2 in lst"
   ]
  },
  {
   "cell_type": "code",
   "execution_count": 20,
   "id": "10d84bac-f2e4-4878-b15c-80ec14149be3",
   "metadata": {},
   "outputs": [
    {
     "data": {
      "text/plain": [
       "False"
      ]
     },
     "execution_count": 20,
     "metadata": {},
     "output_type": "execute_result"
    }
   ],
   "source": [
    "2 not in lst"
   ]
  },
  {
   "cell_type": "raw",
   "id": "97303aad-78aa-4e80-9df8-89ab644afe05",
   "metadata": {},
   "source": [
    "7 Identity Operator\n",
    "examples is,is not"
   ]
  },
  {
   "cell_type": "code",
   "execution_count": 21,
   "id": "6a816aa8-b3af-4b2b-ad34-ef5fb906dbf3",
   "metadata": {},
   "outputs": [
    {
     "data": {
      "text/plain": [
       "False"
      ]
     },
     "execution_count": 21,
     "metadata": {},
     "output_type": "execute_result"
    }
   ],
   "source": [
    "a=2\n",
    "b=3\n",
    "a is b"
   ]
  },
  {
   "cell_type": "code",
   "execution_count": 22,
   "id": "92b0ea99-eb91-4654-b18d-59d77f6c4b16",
   "metadata": {},
   "outputs": [
    {
     "data": {
      "text/plain": [
       "True"
      ]
     },
     "execution_count": 22,
     "metadata": {},
     "output_type": "execute_result"
    }
   ],
   "source": [
    "b is not a"
   ]
  },
  {
   "cell_type": "markdown",
   "id": "5831ce95-6311-4020-a47a-cec7bb3f2cd4",
   "metadata": {},
   "source": [
    "5 - Explain the concept of type casting in Python with examples"
   ]
  },
  {
   "cell_type": "raw",
   "id": "b9167e26-7503-47af-ada3-9d3bdbadbe12",
   "metadata": {},
   "source": [
    "solution 5\n",
    "the method of converting one data type into another data type is known as type casting in python"
   ]
  },
  {
   "cell_type": "code",
   "execution_count": 23,
   "id": "2837fc8a-2c2a-4f8d-a4ff-d6d86dccb92d",
   "metadata": {},
   "outputs": [
    {
     "data": {
      "text/plain": [
       "'2'"
      ]
     },
     "execution_count": 23,
     "metadata": {},
     "output_type": "execute_result"
    }
   ],
   "source": [
    "#example\n",
    "a = str(2) #converting integer 2 to string \"2\"\n",
    "a"
   ]
  },
  {
   "cell_type": "code",
   "execution_count": 24,
   "id": "efacf3b3-a8c7-4678-996f-5cafdd1ed4d7",
   "metadata": {},
   "outputs": [
    {
     "data": {
      "text/plain": [
       "str"
      ]
     },
     "execution_count": 24,
     "metadata": {},
     "output_type": "execute_result"
    }
   ],
   "source": [
    "type(a)"
   ]
  },
  {
   "cell_type": "code",
   "execution_count": 25,
   "id": "fe7cf2a6-79bf-4ebf-a4a7-39b319ece345",
   "metadata": {},
   "outputs": [
    {
     "name": "stdin",
     "output_type": "stream",
     "text": [
      "enter your number 6\n"
     ]
    },
    {
     "data": {
      "text/plain": [
       "str"
      ]
     },
     "execution_count": 25,
     "metadata": {},
     "output_type": "execute_result"
    }
   ],
   "source": [
    "a = input(\"enter your number\") #input always give string value\n",
    "type(a)"
   ]
  },
  {
   "cell_type": "code",
   "execution_count": 26,
   "id": "90e6501f-c8d7-4db3-9926-5425bf4bafab",
   "metadata": {},
   "outputs": [
    {
     "name": "stdin",
     "output_type": "stream",
     "text": [
      "enter your number 6\n"
     ]
    },
    {
     "data": {
      "text/plain": [
       "int"
      ]
     },
     "execution_count": 26,
     "metadata": {},
     "output_type": "execute_result"
    }
   ],
   "source": [
    "a = int(input(\"enter your number\")) #if wants integer value from input use type casting method int()\n",
    "type(a)"
   ]
  },
  {
   "cell_type": "markdown",
   "id": "afbf6e25-d491-4d38-a163-dab52108a791",
   "metadata": {},
   "source": [
    "6-How do conditional statements work in Python? Illustrate with examples"
   ]
  },
  {
   "cell_type": "raw",
   "id": "d0c5bac5-4c11-4ba2-acd1-57aa0e764e49",
   "metadata": {},
   "source": [
    "solution -6\n",
    "condition statements are used to control the flow of program based on condition that you specify"
   ]
  },
  {
   "cell_type": "code",
   "execution_count": 27,
   "id": "f8bfc4a4-28fa-478f-8da3-36d93c404975",
   "metadata": {},
   "outputs": [
    {
     "name": "stdout",
     "output_type": "stream",
     "text": [
      "6 is a positive number\n"
     ]
    }
   ],
   "source": [
    "#sytax of if statements\n",
    "#if this condition is satisfied:\n",
    "    #this code block will be executed\n",
    "n = 6\n",
    "if n>0:\n",
    "    print(f\"{n} is a positive number\")\n",
    "    "
   ]
  },
  {
   "cell_type": "code",
   "execution_count": 28,
   "id": "4934fdb2-3098-42b2-be94-78594055ce4e",
   "metadata": {},
   "outputs": [
    {
     "name": "stdout",
     "output_type": "stream",
     "text": [
      "-6 is a negative number\n"
     ]
    }
   ],
   "source": [
    "#else statement\n",
    "#else statement allow you to execute different block of code if the if condition is false\n",
    "n=-6\n",
    "if n>0:\n",
    "    print(f\"{n} is a positive number\")\n",
    "else:\n",
    "    print(f\"{n} is a negative number\")\n",
    "    \n",
    "    \n"
   ]
  },
  {
   "cell_type": "raw",
   "id": "ca4b18c0-6223-48aa-802f-e32d09371e5f",
   "metadata": {},
   "source": [
    "elif statements allow you to check multiple conditions in sequence and execute different code block depending on which condition is true\n",
    "syntax\n",
    "if condition1:\n",
    "    execute if condition1 is true\n",
    "elif condition2:\n",
    "    execute if condition1 is false\n",
    "elif condition3:\n",
    "    execute if condition2 is false\n",
    "else:\n",
    "    execute if all above conditions are false\n",
    "    "
   ]
  },
  {
   "cell_type": "code",
   "execution_count": 29,
   "id": "dfe2f4af-0c2e-4af7-9f4e-daa9bf49e9d0",
   "metadata": {},
   "outputs": [
    {
     "name": "stdout",
     "output_type": "stream",
     "text": [
      "your grade is B\n"
     ]
    }
   ],
   "source": [
    "score = 80\n",
    "if score >= 90:\n",
    "    print(\"your grade is A\")\n",
    "elif score >= 80:\n",
    "    print(\"your grade is B\")\n",
    "elif score >= 70:\n",
    "    print(\"your grade is C\")\n",
    "elif score >= 60:\n",
    "    print(\"your grade is D\")\n",
    "elif score >= 50:\n",
    "    print(\"your grade is E\")\n",
    "else:\n",
    "    print(\"your grade is F\")\n"
   ]
  },
  {
   "cell_type": "markdown",
   "id": "3d67e218-2f56-4b3a-9c54-b9a037ec1e1f",
   "metadata": {},
   "source": [
    "7-Describe the different types of loops in Python and their use cases with examples."
   ]
  },
  {
   "cell_type": "raw",
   "id": "abc3fd38-a585-460a-9e7b-a5f4ff701cba",
   "metadata": {},
   "source": [
    "solution 7 \n",
    "for loop\n",
    "for loop is used to iterate over sequence i.e. it repeat a specifice block of code a known number of times\n"
   ]
  },
  {
   "cell_type": "code",
   "execution_count": 30,
   "id": "4bce77da-3dca-4aac-b292-4a2f9178ef70",
   "metadata": {},
   "outputs": [
    {
     "name": "stdout",
     "output_type": "stream",
     "text": [
      "apple\n",
      "mango\n",
      "banana\n"
     ]
    }
   ],
   "source": [
    "#use cases of for loop\n",
    "#to get each element of list\n",
    "for n in ['apple','mango','banana']:\n",
    "    print(n)\n"
   ]
  },
  {
   "cell_type": "code",
   "execution_count": 31,
   "id": "291a01ac-1d90-4941-b860-61340a424b7c",
   "metadata": {},
   "outputs": [
    {
     "name": "stdout",
     "output_type": "stream",
     "text": [
      "5\n",
      "4\n",
      "3\n"
     ]
    }
   ],
   "source": [
    "#while loop is used to repeat a specific block an unknown numbetr of times,until condition is met\n",
    "n = 5\n",
    "while n > 2:\n",
    "    print(n)\n",
    "    n-=1"
   ]
  }
 ],
 "metadata": {
  "kernelspec": {
   "display_name": "Python 3 (ipykernel)",
   "language": "python",
   "name": "python3"
  },
  "language_info": {
   "codemirror_mode": {
    "name": "ipython",
    "version": 3
   },
   "file_extension": ".py",
   "mimetype": "text/x-python",
   "name": "python",
   "nbconvert_exporter": "python",
   "pygments_lexer": "ipython3",
   "version": "3.10.8"
  }
 },
 "nbformat": 4,
 "nbformat_minor": 5
}
